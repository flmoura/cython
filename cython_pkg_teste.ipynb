{
  "nbformat": 4,
  "nbformat_minor": 0,
  "metadata": {
    "colab": {
      "name": "cython-pkg-teste.ipynb",
      "provenance": [],
      "authorship_tag": "ABX9TyMyFLzEbqiPf5DhxLuxMmCN",
      "include_colab_link": true
    },
    "kernelspec": {
      "name": "python3",
      "display_name": "Python 3"
    },
    "language_info": {
      "name": "python"
    }
  },
  "cells": [
    {
      "cell_type": "markdown",
      "metadata": {
        "id": "view-in-github",
        "colab_type": "text"
      },
      "source": [
        "<a href=\"https://colab.research.google.com/github/flmoura/cython/blob/main/cython_pkg_teste.ipynb\" target=\"_parent\"><img src=\"https://colab.research.google.com/assets/colab-badge.svg\" alt=\"Open In Colab\"/></a>"
      ]
    },
    {
      "cell_type": "code",
      "metadata": {
        "colab": {
          "base_uri": "https://localhost:8080/"
        },
        "id": "G_iuAkkb_TT9",
        "outputId": "e89621ba-e7ff-4527-b0ce-66be2ff229bc"
      },
      "source": [
        "!pip install My_Package_App-0.1.0-cp37-cp37m-linux_x86_64.whl"
      ],
      "execution_count": 1,
      "outputs": [
        {
          "output_type": "stream",
          "name": "stdout",
          "text": [
            "Processing ./My_Package_App-0.1.0-cp37-cp37m-linux_x86_64.whl\n",
            "Requirement already satisfied: numpy in /usr/local/lib/python3.7/dist-packages (from My-Package-App==0.1.0) (1.19.5)\n",
            "Installing collected packages: My-Package-App\n",
            "Successfully installed My-Package-App-0.1.0\n"
          ]
        }
      ]
    },
    {
      "cell_type": "code",
      "metadata": {
        "colab": {
          "base_uri": "https://localhost:8080/"
        },
        "id": "wBu020zC_vEC",
        "outputId": "1f0e24d8-7c48-4a5c-f269-50a3201e89fe"
      },
      "source": [
        "from mypkg.main import run\n",
        "run()"
      ],
      "execution_count": 16,
      "outputs": [
        {
          "output_type": "stream",
          "name": "stdout",
          "text": [
            "Hello from Module 1\n",
            "Hello from Module 2\n",
            "Hello from Module 3\n",
            "[[ 0  1  2  3  4]\n",
            " [ 5  6  7  8  9]\n",
            " [10 11 12 13 14]]\n",
            "(3, 5)\n",
            "int64\n"
          ]
        }
      ]
    },
    {
      "cell_type": "code",
      "metadata": {
        "colab": {
          "base_uri": "https://localhost:8080/"
        },
        "id": "32nJodX5_1MD",
        "outputId": "87aa47e2-8a89-4904-fb10-0714789e6751"
      },
      "source": [
        "!unzip My_Package_App-0.1.0-cp37-cp37m-linux_x86_64.whl"
      ],
      "execution_count": 4,
      "outputs": [
        {
          "output_type": "stream",
          "name": "stdout",
          "text": [
            "Archive:  My_Package_App-0.1.0-cp37-cp37m-linux_x86_64.whl\n",
            "  inflating: mypkg/__init__.cpython-37m-x86_64-linux-gnu.so  \n",
            "  inflating: mypkg/main.cpython-37m-x86_64-linux-gnu.so  \n",
            "  inflating: mypkg/module1/__init__.cpython-37m-x86_64-linux-gnu.so  \n",
            "  inflating: mypkg/module1/mod1.cpython-37m-x86_64-linux-gnu.so  \n",
            "  inflating: mypkg/module2/__init__.cpython-37m-x86_64-linux-gnu.so  \n",
            "  inflating: mypkg/module2/mod2.cpython-37m-x86_64-linux-gnu.so  \n",
            "  inflating: mypkg/module3/__init__.cpython-37m-x86_64-linux-gnu.so  \n",
            "  inflating: mypkg/module3/mod3.cpython-37m-x86_64-linux-gnu.so  \n",
            "  inflating: My_Package_App-0.1.0.dist-info/METADATA  \n",
            "  inflating: My_Package_App-0.1.0.dist-info/WHEEL  \n",
            "  inflating: My_Package_App-0.1.0.dist-info/top_level.txt  \n",
            "  inflating: My_Package_App-0.1.0.dist-info/RECORD  \n"
          ]
        }
      ]
    },
    {
      "cell_type": "code",
      "metadata": {
        "colab": {
          "base_uri": "https://localhost:8080/"
        },
        "id": "_dYe-LXWAONW",
        "outputId": "4635335d-a622-4380-ef1b-fcdf683ba6d3"
      },
      "source": [
        "!apt-get install tree"
      ],
      "execution_count": 14,
      "outputs": [
        {
          "output_type": "stream",
          "name": "stdout",
          "text": [
            "Reading package lists... Done\n",
            "Building dependency tree       \n",
            "Reading state information... Done\n",
            "tree is already the newest version (1.7.0-5).\n",
            "0 upgraded, 0 newly installed, 0 to remove and 40 not upgraded.\n"
          ]
        }
      ]
    },
    {
      "cell_type": "code",
      "metadata": {
        "colab": {
          "base_uri": "https://localhost:8080/"
        },
        "id": "Sgs0ugeYAJ0P",
        "outputId": "033a28ac-56fd-41f8-ba05-a0e152927d82"
      },
      "source": [
        "!tree mypkg"
      ],
      "execution_count": 15,
      "outputs": [
        {
          "output_type": "stream",
          "name": "stdout",
          "text": [
            "mypkg\n",
            "├── __init__.cpython-37m-x86_64-linux-gnu.so\n",
            "├── main.cpython-37m-x86_64-linux-gnu.so\n",
            "├── module1\n",
            "│   ├── __init__.cpython-37m-x86_64-linux-gnu.so\n",
            "│   └── mod1.cpython-37m-x86_64-linux-gnu.so\n",
            "├── module2\n",
            "│   ├── __init__.cpython-37m-x86_64-linux-gnu.so\n",
            "│   └── mod2.cpython-37m-x86_64-linux-gnu.so\n",
            "└── module3\n",
            "    ├── __init__.cpython-37m-x86_64-linux-gnu.so\n",
            "    └── mod3.cpython-37m-x86_64-linux-gnu.so\n",
            "\n",
            "3 directories, 8 files\n"
          ]
        }
      ]
    },
    {
      "cell_type": "code",
      "metadata": {
        "id": "1ICATz8mAYus"
      },
      "source": [
        ""
      ],
      "execution_count": null,
      "outputs": []
    }
  ]
}