{
  "nbformat": 4,
  "nbformat_minor": 0,
  "metadata": {
    "colab": {
      "name": "cython-pkg-build.ipynb",
      "provenance": [],
      "authorship_tag": "ABX9TyPVWiMqp15RZVfsgACURHog",
      "include_colab_link": true
    },
    "kernelspec": {
      "name": "python3",
      "display_name": "Python 3"
    },
    "language_info": {
      "name": "python"
    }
  },
  "cells": [
    {
      "cell_type": "markdown",
      "metadata": {
        "id": "view-in-github",
        "colab_type": "text"
      },
      "source": [
        "<a href=\"https://colab.research.google.com/github/flmoura/cython/blob/main/cython_pkg_build.ipynb\" target=\"_parent\"><img src=\"https://colab.research.google.com/assets/colab-badge.svg\" alt=\"Open In Colab\"/></a>"
      ]
    },
    {
      "cell_type": "code",
      "metadata": {
        "colab": {
          "base_uri": "https://localhost:8080/"
        },
        "id": "e0Sp0gyo9sSa",
        "outputId": "3ff4c0c8-da7a-4e03-96ae-1d0804a6fec5"
      },
      "source": [
        "!git clone https://github.com/flmoura/cython.git"
      ],
      "execution_count": 1,
      "outputs": [
        {
          "output_type": "stream",
          "name": "stdout",
          "text": [
            "Cloning into 'cython'...\n",
            "remote: Enumerating objects: 37, done.\u001b[K\n",
            "remote: Counting objects: 100% (37/37), done.\u001b[K\n",
            "remote: Compressing objects: 100% (26/26), done.\u001b[K\n",
            "remote: Total 37 (delta 12), reused 33 (delta 9), pack-reused 0\u001b[K\n",
            "Unpacking objects: 100% (37/37), done.\n"
          ]
        }
      ]
    },
    {
      "cell_type": "code",
      "metadata": {
        "colab": {
          "base_uri": "https://localhost:8080/"
        },
        "id": "92dePMns-LYt",
        "outputId": "31132d2c-3d9b-4102-b53a-5a531488fe31"
      },
      "source": [
        "!ls -lha"
      ],
      "execution_count": 2,
      "outputs": [
        {
          "output_type": "stream",
          "name": "stdout",
          "text": [
            "total 20K\n",
            "drwxr-xr-x 1 root root 4.0K Sep  7 15:55 .\n",
            "drwxr-xr-x 1 root root 4.0K Sep  7 15:52 ..\n",
            "drwxr-xr-x 4 root root 4.0K Sep  1 19:26 .config\n",
            "drwxr-xr-x 4 root root 4.0K Sep  7 15:55 cython\n",
            "drwxr-xr-x 1 root root 4.0K Sep  1 19:26 sample_data\n"
          ]
        }
      ]
    },
    {
      "cell_type": "code",
      "metadata": {
        "colab": {
          "base_uri": "https://localhost:8080/"
        },
        "id": "mwKBMHBo-Otj",
        "outputId": "3255b541-46d8-4013-ff75-10a9b86b90aa"
      },
      "source": [
        "!cd cython && ls -lha"
      ],
      "execution_count": 4,
      "outputs": [
        {
          "output_type": "stream",
          "name": "stdout",
          "text": [
            "total 44K\n",
            "drwxr-xr-x 4 root root 4.0K Sep  7 15:55 .\n",
            "drwxr-xr-x 1 root root 4.0K Sep  7 15:55 ..\n",
            "-rwxr-xr-x 1 root root   90 Sep  7 15:55 build.sh\n",
            "-rwxr-xr-x 1 root root  399 Sep  7 15:55 clean.sh\n",
            "drwxr-xr-x 8 root root 4.0K Sep  7 15:55 .git\n",
            "-rw-r--r-- 1 root root 2.3K Sep  7 15:55 .gitignore\n",
            "drwxr-xr-x 5 root root 4.0K Sep  7 15:55 mypkg\n",
            "-rw-r--r-- 1 root root  648 Sep  7 15:55 README.md\n",
            "-rw-r--r-- 1 root root    6 Sep  7 15:55 requirements.txt\n",
            "-rw-r--r-- 1 root root 2.0K Sep  7 15:55 setup.py\n",
            "-rw-r--r-- 1 root root   64 Sep  7 15:55 test.py\n"
          ]
        }
      ]
    },
    {
      "cell_type": "code",
      "metadata": {
        "colab": {
          "base_uri": "https://localhost:8080/"
        },
        "id": "JaxDaz8P-TzY",
        "outputId": "28cc0153-4f01-4126-ba4c-6353f7da64a2"
      },
      "source": [
        "!pip install -r cython/requirements.txt"
      ],
      "execution_count": 5,
      "outputs": [
        {
          "output_type": "stream",
          "name": "stdout",
          "text": [
            "Requirement already satisfied: Cython in /usr/local/lib/python3.7/dist-packages (from -r cython/requirements.txt (line 1)) (0.29.24)\n"
          ]
        }
      ]
    },
    {
      "cell_type": "code",
      "metadata": {
        "colab": {
          "base_uri": "https://localhost:8080/"
        },
        "id": "yLGnCQwo-la2",
        "outputId": "8e1df900-50ac-48ea-f116-c33f6941d612"
      },
      "source": [
        "!cd cython && ./build.sh"
      ],
      "execution_count": 6,
      "outputs": [
        {
          "output_type": "stream",
          "name": "stdout",
          "text": [
            "['mypkg/__init__.py', 'mypkg/main.py', 'mypkg/module2/__init__.py', 'mypkg/module2/mod2.py', 'mypkg/module1/mod1.py', 'mypkg/module1/__init__.py', 'mypkg/module3/mod3.py', 'mypkg/module3/__init__.py']\n",
            "Compiling mypkg/__init__.py because it changed.\n",
            "Compiling mypkg/main.py because it changed.\n",
            "Compiling mypkg/module2/__init__.py because it changed.\n",
            "Compiling mypkg/module2/mod2.py because it changed.\n",
            "Compiling mypkg/module1/mod1.py because it changed.\n",
            "Compiling mypkg/module1/__init__.py because it changed.\n",
            "Compiling mypkg/module3/mod3.py because it changed.\n",
            "Compiling mypkg/module3/__init__.py because it changed.\n",
            "[1/8] Cythonizing mypkg/__init__.py\n",
            "[2/8] Cythonizing mypkg/main.py\n",
            "[3/8] Cythonizing mypkg/module1/__init__.py\n",
            "[4/8] Cythonizing mypkg/module1/mod1.py\n",
            "[5/8] Cythonizing mypkg/module2/__init__.py\n",
            "[6/8] Cythonizing mypkg/module2/mod2.py\n",
            "[7/8] Cythonizing mypkg/module3/__init__.py\n",
            "[8/8] Cythonizing mypkg/module3/mod3.py\n",
            "running build_ext\n",
            "building 'mypkg.__init__' extension\n",
            "creating build\n",
            "creating build/temp.linux-x86_64-3.7\n",
            "creating build/temp.linux-x86_64-3.7/mypkg\n",
            "x86_64-linux-gnu-gcc -pthread -Wno-unused-result -Wsign-compare -DNDEBUG -g -fwrapv -O2 -Wall -g -fdebug-prefix-map=/build/python3.7-LSlbJj/python3.7-3.7.11=. -fstack-protector-strong -Wformat -Werror=format-security -g -fdebug-prefix-map=/build/python3.7-LSlbJj/python3.7-3.7.11=. -fstack-protector-strong -Wformat -Werror=format-security -Wdate-time -D_FORTIFY_SOURCE=2 -fPIC -I/usr/include/python3.7m -c mypkg/__init__.c -o build/temp.linux-x86_64-3.7/mypkg/__init__.o\n",
            "creating build/lib.linux-x86_64-3.7\n",
            "creating build/lib.linux-x86_64-3.7/mypkg\n",
            "x86_64-linux-gnu-gcc -pthread -shared -Wl,-O1 -Wl,-Bsymbolic-functions -Wl,-Bsymbolic-functions -Wl,-z,relro -Wl,-Bsymbolic-functions -Wl,-z,relro -g -fdebug-prefix-map=/build/python3.7-LSlbJj/python3.7-3.7.11=. -fstack-protector-strong -Wformat -Werror=format-security -Wdate-time -D_FORTIFY_SOURCE=2 build/temp.linux-x86_64-3.7/mypkg/__init__.o -o build/lib.linux-x86_64-3.7/mypkg/__init__.cpython-37m-x86_64-linux-gnu.so\n",
            "building 'mypkg.main' extension\n",
            "x86_64-linux-gnu-gcc -pthread -Wno-unused-result -Wsign-compare -DNDEBUG -g -fwrapv -O2 -Wall -g -fdebug-prefix-map=/build/python3.7-LSlbJj/python3.7-3.7.11=. -fstack-protector-strong -Wformat -Werror=format-security -g -fdebug-prefix-map=/build/python3.7-LSlbJj/python3.7-3.7.11=. -fstack-protector-strong -Wformat -Werror=format-security -Wdate-time -D_FORTIFY_SOURCE=2 -fPIC -I/usr/include/python3.7m -c mypkg/main.c -o build/temp.linux-x86_64-3.7/mypkg/main.o\n",
            "x86_64-linux-gnu-gcc -pthread -shared -Wl,-O1 -Wl,-Bsymbolic-functions -Wl,-Bsymbolic-functions -Wl,-z,relro -Wl,-Bsymbolic-functions -Wl,-z,relro -g -fdebug-prefix-map=/build/python3.7-LSlbJj/python3.7-3.7.11=. -fstack-protector-strong -Wformat -Werror=format-security -Wdate-time -D_FORTIFY_SOURCE=2 build/temp.linux-x86_64-3.7/mypkg/main.o -o build/lib.linux-x86_64-3.7/mypkg/main.cpython-37m-x86_64-linux-gnu.so\n",
            "building 'mypkg.module2.__init__' extension\n",
            "creating build/temp.linux-x86_64-3.7/mypkg/module2\n",
            "x86_64-linux-gnu-gcc -pthread -Wno-unused-result -Wsign-compare -DNDEBUG -g -fwrapv -O2 -Wall -g -fdebug-prefix-map=/build/python3.7-LSlbJj/python3.7-3.7.11=. -fstack-protector-strong -Wformat -Werror=format-security -g -fdebug-prefix-map=/build/python3.7-LSlbJj/python3.7-3.7.11=. -fstack-protector-strong -Wformat -Werror=format-security -Wdate-time -D_FORTIFY_SOURCE=2 -fPIC -I/usr/include/python3.7m -c mypkg/module2/__init__.c -o build/temp.linux-x86_64-3.7/mypkg/module2/__init__.o\n",
            "creating build/lib.linux-x86_64-3.7/mypkg/module2\n",
            "x86_64-linux-gnu-gcc -pthread -shared -Wl,-O1 -Wl,-Bsymbolic-functions -Wl,-Bsymbolic-functions -Wl,-z,relro -Wl,-Bsymbolic-functions -Wl,-z,relro -g -fdebug-prefix-map=/build/python3.7-LSlbJj/python3.7-3.7.11=. -fstack-protector-strong -Wformat -Werror=format-security -Wdate-time -D_FORTIFY_SOURCE=2 build/temp.linux-x86_64-3.7/mypkg/module2/__init__.o -o build/lib.linux-x86_64-3.7/mypkg/module2/__init__.cpython-37m-x86_64-linux-gnu.so\n",
            "building 'mypkg.module2.mod2' extension\n",
            "x86_64-linux-gnu-gcc -pthread -Wno-unused-result -Wsign-compare -DNDEBUG -g -fwrapv -O2 -Wall -g -fdebug-prefix-map=/build/python3.7-LSlbJj/python3.7-3.7.11=. -fstack-protector-strong -Wformat -Werror=format-security -g -fdebug-prefix-map=/build/python3.7-LSlbJj/python3.7-3.7.11=. -fstack-protector-strong -Wformat -Werror=format-security -Wdate-time -D_FORTIFY_SOURCE=2 -fPIC -I/usr/include/python3.7m -c mypkg/module2/mod2.c -o build/temp.linux-x86_64-3.7/mypkg/module2/mod2.o\n",
            "x86_64-linux-gnu-gcc -pthread -shared -Wl,-O1 -Wl,-Bsymbolic-functions -Wl,-Bsymbolic-functions -Wl,-z,relro -Wl,-Bsymbolic-functions -Wl,-z,relro -g -fdebug-prefix-map=/build/python3.7-LSlbJj/python3.7-3.7.11=. -fstack-protector-strong -Wformat -Werror=format-security -Wdate-time -D_FORTIFY_SOURCE=2 build/temp.linux-x86_64-3.7/mypkg/module2/mod2.o -o build/lib.linux-x86_64-3.7/mypkg/module2/mod2.cpython-37m-x86_64-linux-gnu.so\n",
            "building 'mypkg.module1.mod1' extension\n",
            "creating build/temp.linux-x86_64-3.7/mypkg/module1\n",
            "x86_64-linux-gnu-gcc -pthread -Wno-unused-result -Wsign-compare -DNDEBUG -g -fwrapv -O2 -Wall -g -fdebug-prefix-map=/build/python3.7-LSlbJj/python3.7-3.7.11=. -fstack-protector-strong -Wformat -Werror=format-security -g -fdebug-prefix-map=/build/python3.7-LSlbJj/python3.7-3.7.11=. -fstack-protector-strong -Wformat -Werror=format-security -Wdate-time -D_FORTIFY_SOURCE=2 -fPIC -I/usr/include/python3.7m -c mypkg/module1/mod1.c -o build/temp.linux-x86_64-3.7/mypkg/module1/mod1.o\n",
            "creating build/lib.linux-x86_64-3.7/mypkg/module1\n",
            "x86_64-linux-gnu-gcc -pthread -shared -Wl,-O1 -Wl,-Bsymbolic-functions -Wl,-Bsymbolic-functions -Wl,-z,relro -Wl,-Bsymbolic-functions -Wl,-z,relro -g -fdebug-prefix-map=/build/python3.7-LSlbJj/python3.7-3.7.11=. -fstack-protector-strong -Wformat -Werror=format-security -Wdate-time -D_FORTIFY_SOURCE=2 build/temp.linux-x86_64-3.7/mypkg/module1/mod1.o -o build/lib.linux-x86_64-3.7/mypkg/module1/mod1.cpython-37m-x86_64-linux-gnu.so\n",
            "building 'mypkg.module1.__init__' extension\n",
            "x86_64-linux-gnu-gcc -pthread -Wno-unused-result -Wsign-compare -DNDEBUG -g -fwrapv -O2 -Wall -g -fdebug-prefix-map=/build/python3.7-LSlbJj/python3.7-3.7.11=. -fstack-protector-strong -Wformat -Werror=format-security -g -fdebug-prefix-map=/build/python3.7-LSlbJj/python3.7-3.7.11=. -fstack-protector-strong -Wformat -Werror=format-security -Wdate-time -D_FORTIFY_SOURCE=2 -fPIC -I/usr/include/python3.7m -c mypkg/module1/__init__.c -o build/temp.linux-x86_64-3.7/mypkg/module1/__init__.o\n",
            "x86_64-linux-gnu-gcc -pthread -shared -Wl,-O1 -Wl,-Bsymbolic-functions -Wl,-Bsymbolic-functions -Wl,-z,relro -Wl,-Bsymbolic-functions -Wl,-z,relro -g -fdebug-prefix-map=/build/python3.7-LSlbJj/python3.7-3.7.11=. -fstack-protector-strong -Wformat -Werror=format-security -Wdate-time -D_FORTIFY_SOURCE=2 build/temp.linux-x86_64-3.7/mypkg/module1/__init__.o -o build/lib.linux-x86_64-3.7/mypkg/module1/__init__.cpython-37m-x86_64-linux-gnu.so\n",
            "building 'mypkg.module3.mod3' extension\n",
            "creating build/temp.linux-x86_64-3.7/mypkg/module3\n",
            "x86_64-linux-gnu-gcc -pthread -Wno-unused-result -Wsign-compare -DNDEBUG -g -fwrapv -O2 -Wall -g -fdebug-prefix-map=/build/python3.7-LSlbJj/python3.7-3.7.11=. -fstack-protector-strong -Wformat -Werror=format-security -g -fdebug-prefix-map=/build/python3.7-LSlbJj/python3.7-3.7.11=. -fstack-protector-strong -Wformat -Werror=format-security -Wdate-time -D_FORTIFY_SOURCE=2 -fPIC -I/usr/include/python3.7m -c mypkg/module3/mod3.c -o build/temp.linux-x86_64-3.7/mypkg/module3/mod3.o\n",
            "creating build/lib.linux-x86_64-3.7/mypkg/module3\n",
            "x86_64-linux-gnu-gcc -pthread -shared -Wl,-O1 -Wl,-Bsymbolic-functions -Wl,-Bsymbolic-functions -Wl,-z,relro -Wl,-Bsymbolic-functions -Wl,-z,relro -g -fdebug-prefix-map=/build/python3.7-LSlbJj/python3.7-3.7.11=. -fstack-protector-strong -Wformat -Werror=format-security -Wdate-time -D_FORTIFY_SOURCE=2 build/temp.linux-x86_64-3.7/mypkg/module3/mod3.o -o build/lib.linux-x86_64-3.7/mypkg/module3/mod3.cpython-37m-x86_64-linux-gnu.so\n",
            "building 'mypkg.module3.__init__' extension\n",
            "x86_64-linux-gnu-gcc -pthread -Wno-unused-result -Wsign-compare -DNDEBUG -g -fwrapv -O2 -Wall -g -fdebug-prefix-map=/build/python3.7-LSlbJj/python3.7-3.7.11=. -fstack-protector-strong -Wformat -Werror=format-security -g -fdebug-prefix-map=/build/python3.7-LSlbJj/python3.7-3.7.11=. -fstack-protector-strong -Wformat -Werror=format-security -Wdate-time -D_FORTIFY_SOURCE=2 -fPIC -I/usr/include/python3.7m -c mypkg/module3/__init__.c -o build/temp.linux-x86_64-3.7/mypkg/module3/__init__.o\n",
            "x86_64-linux-gnu-gcc -pthread -shared -Wl,-O1 -Wl,-Bsymbolic-functions -Wl,-Bsymbolic-functions -Wl,-z,relro -Wl,-Bsymbolic-functions -Wl,-z,relro -g -fdebug-prefix-map=/build/python3.7-LSlbJj/python3.7-3.7.11=. -fstack-protector-strong -Wformat -Werror=format-security -Wdate-time -D_FORTIFY_SOURCE=2 build/temp.linux-x86_64-3.7/mypkg/module3/__init__.o -o build/lib.linux-x86_64-3.7/mypkg/module3/__init__.cpython-37m-x86_64-linux-gnu.so\n",
            "copying build/lib.linux-x86_64-3.7/mypkg/__init__.cpython-37m-x86_64-linux-gnu.so -> mypkg\n",
            "copying build/lib.linux-x86_64-3.7/mypkg/main.cpython-37m-x86_64-linux-gnu.so -> mypkg\n",
            "copying build/lib.linux-x86_64-3.7/mypkg/module2/__init__.cpython-37m-x86_64-linux-gnu.so -> mypkg/module2\n",
            "copying build/lib.linux-x86_64-3.7/mypkg/module2/mod2.cpython-37m-x86_64-linux-gnu.so -> mypkg/module2\n",
            "copying build/lib.linux-x86_64-3.7/mypkg/module1/mod1.cpython-37m-x86_64-linux-gnu.so -> mypkg/module1\n",
            "copying build/lib.linux-x86_64-3.7/mypkg/module1/__init__.cpython-37m-x86_64-linux-gnu.so -> mypkg/module1\n",
            "copying build/lib.linux-x86_64-3.7/mypkg/module3/mod3.cpython-37m-x86_64-linux-gnu.so -> mypkg/module3\n",
            "copying build/lib.linux-x86_64-3.7/mypkg/module3/__init__.cpython-37m-x86_64-linux-gnu.so -> mypkg/module3\n",
            "['mypkg/__init__.py', 'mypkg/main.py', 'mypkg/module2/__init__.py', 'mypkg/module2/mod2.py', 'mypkg/module1/mod1.py', 'mypkg/module1/__init__.py', 'mypkg/module3/mod3.py', 'mypkg/module3/__init__.py']\n",
            "running bdist_wheel\n",
            "running build\n",
            "running build_py\n",
            "running build_ext\n",
            "installing to build/bdist.linux-x86_64/wheel\n",
            "running install\n",
            "running install_lib\n",
            "creating build/bdist.linux-x86_64\n",
            "creating build/bdist.linux-x86_64/wheel\n",
            "creating build/bdist.linux-x86_64/wheel/mypkg\n",
            "creating build/bdist.linux-x86_64/wheel/mypkg/module2\n",
            "copying build/lib.linux-x86_64-3.7/mypkg/module2/mod2.cpython-37m-x86_64-linux-gnu.so -> build/bdist.linux-x86_64/wheel/mypkg/module2\n",
            "copying build/lib.linux-x86_64-3.7/mypkg/module2/__init__.cpython-37m-x86_64-linux-gnu.so -> build/bdist.linux-x86_64/wheel/mypkg/module2\n",
            "copying build/lib.linux-x86_64-3.7/mypkg/main.cpython-37m-x86_64-linux-gnu.so -> build/bdist.linux-x86_64/wheel/mypkg\n",
            "creating build/bdist.linux-x86_64/wheel/mypkg/module1\n",
            "copying build/lib.linux-x86_64-3.7/mypkg/module1/mod1.cpython-37m-x86_64-linux-gnu.so -> build/bdist.linux-x86_64/wheel/mypkg/module1\n",
            "copying build/lib.linux-x86_64-3.7/mypkg/module1/__init__.cpython-37m-x86_64-linux-gnu.so -> build/bdist.linux-x86_64/wheel/mypkg/module1\n",
            "copying build/lib.linux-x86_64-3.7/mypkg/__init__.cpython-37m-x86_64-linux-gnu.so -> build/bdist.linux-x86_64/wheel/mypkg\n",
            "creating build/bdist.linux-x86_64/wheel/mypkg/module3\n",
            "copying build/lib.linux-x86_64-3.7/mypkg/module3/mod3.cpython-37m-x86_64-linux-gnu.so -> build/bdist.linux-x86_64/wheel/mypkg/module3\n",
            "copying build/lib.linux-x86_64-3.7/mypkg/module3/__init__.cpython-37m-x86_64-linux-gnu.so -> build/bdist.linux-x86_64/wheel/mypkg/module3\n",
            "running install_egg_info\n",
            "running egg_info\n",
            "creating My_Package_App.egg-info\n",
            "writing My_Package_App.egg-info/PKG-INFO\n",
            "writing dependency_links to My_Package_App.egg-info/dependency_links.txt\n",
            "writing requirements to My_Package_App.egg-info/requires.txt\n",
            "writing top-level names to My_Package_App.egg-info/top_level.txt\n",
            "writing manifest file 'My_Package_App.egg-info/SOURCES.txt'\n",
            "writing manifest file 'My_Package_App.egg-info/SOURCES.txt'\n",
            "Copying My_Package_App.egg-info to build/bdist.linux-x86_64/wheel/My_Package_App-0.1.0-py3.7.egg-info\n",
            "running install_scripts\n",
            "creating build/bdist.linux-x86_64/wheel/My_Package_App-0.1.0.dist-info/WHEEL\n",
            "creating 'dist/My_Package_App-0.1.0-cp37-cp37m-linux_x86_64.whl' and adding 'build/bdist.linux-x86_64/wheel' to it\n",
            "adding 'mypkg/__init__.cpython-37m-x86_64-linux-gnu.so'\n",
            "adding 'mypkg/main.cpython-37m-x86_64-linux-gnu.so'\n",
            "adding 'mypkg/module1/__init__.cpython-37m-x86_64-linux-gnu.so'\n",
            "adding 'mypkg/module1/mod1.cpython-37m-x86_64-linux-gnu.so'\n",
            "adding 'mypkg/module2/__init__.cpython-37m-x86_64-linux-gnu.so'\n",
            "adding 'mypkg/module2/mod2.cpython-37m-x86_64-linux-gnu.so'\n",
            "adding 'mypkg/module3/__init__.cpython-37m-x86_64-linux-gnu.so'\n",
            "adding 'mypkg/module3/mod3.cpython-37m-x86_64-linux-gnu.so'\n",
            "adding 'My_Package_App-0.1.0.dist-info/METADATA'\n",
            "adding 'My_Package_App-0.1.0.dist-info/WHEEL'\n",
            "adding 'My_Package_App-0.1.0.dist-info/top_level.txt'\n",
            "adding 'My_Package_App-0.1.0.dist-info/RECORD'\n",
            "removing build/bdist.linux-x86_64/wheel\n"
          ]
        }
      ]
    },
    {
      "cell_type": "code",
      "metadata": {
        "id": "3vri3nO4-zek"
      },
      "source": [
        ""
      ],
      "execution_count": null,
      "outputs": []
    }
  ]
}